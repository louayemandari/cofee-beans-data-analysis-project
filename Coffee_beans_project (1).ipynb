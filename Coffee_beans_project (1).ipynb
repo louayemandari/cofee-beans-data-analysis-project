{
  "nbformat": 4,
  "nbformat_minor": 0,
  "metadata": {
    "colab": {
      "provenance": []
    },
    "kernelspec": {
      "name": "python3",
      "display_name": "Python 3"
    },
    "language_info": {
      "name": "python"
    }
  },
  "cells": [
    {
      "cell_type": "markdown",
      "metadata": {
        "id": "pSp2PnhBSssR"
      },
      "source": [
        "In this note book I will discuss diffrent data points about coffee beans!\n",
        "\n",
        "Below, you can find all the set of features, provided in the dataset:\n",
        "*   **Quality Measures**\n",
        "    * Aroma\n",
        "    * Flavor\n",
        "    * Aftertaste\n",
        "    * Acidity\n",
        "    * Body\n",
        "    * Balance\n",
        "    * Uniformity\n",
        "    * Clean.Cup\n",
        "    * Sweetness\n",
        "    * Cupper.Points\t\n",
        "    * Moisture\n",
        "\n",
        "\n",
        "*   **Bean Metadata**\n",
        "    * Processing.Method\n",
        "    * Color\n",
        "    * Harvest.Year\n",
        "    * Grading.Date\n",
        "\n",
        "*   **Farm Metadata**\n",
        "    * Owner\n",
        "    * Country.of.Origin\n",
        "    * Farm.Name\n",
        "    * Lot.Number\n",
        "    * Mill\n",
        "    * Company\n",
        "    * Region\n",
        "    * Producer\n",
        "    * Altitude\n",
        "\n"
      ]
    },
    {
      "cell_type": "code",
      "metadata": {
        "colab": {
          "base_uri": "https://localhost:8080/"
        },
        "id": "C3MOsDPfwG6u",
        "outputId": "b6771338-4d87-4c84-ffe8-63f4ee40ee26"
      },
      "source": [
        "from google.colab import drive\n",
        "drive.mount(\"./drive\")\n",
        "\n",
        "path_prefix = \"./drive/My Drive\""
      ],
      "execution_count": null,
      "outputs": [
        {
          "output_type": "stream",
          "name": "stdout",
          "text": [
            "Drive already mounted at ./drive; to attempt to forcibly remount, call drive.mount(\"./drive\", force_remount=True).\n"
          ]
        }
      ]
    },
    {
      "cell_type": "code",
      "metadata": {
        "id": "Y5IZcvlawG9y"
      },
      "source": [
        "import pandas as pd\n",
        "import numpy as np\n",
        "import matplotlib.pyplot as plt\n",
        "from os.path import join\n",
        "import seaborn as sns\n",
        "\n",
        "import sys\n",
        "import warnings\n",
        "\n",
        "%matplotlib inline\n",
        "if not sys.warnoptions:\n",
        "    warnings.simplefilter(\"ignore\")\n",
        "\n",
        "import json"
      ],
      "execution_count": null,
      "outputs": []
    },
    {
      "cell_type": "code",
      "metadata": {
        "id": "KlHxT8RbwHMJ"
      },
      "source": [
        "fname = \"arabica_data.csv\"\n",
        "df = pd.read_csv(join(path_prefix, fname))\n"
      ],
      "execution_count": null,
      "outputs": []
    },
    {
      "cell_type": "markdown",
      "metadata": {
        "id": "AMUEq6_B25Ca"
      },
      "source": [
        "#  Removing Columns with High Missing Values"
      ]
    },
    {
      "cell_type": "markdown",
      "metadata": {
        "id": "PJ9xipC15S97"
      },
      "source": [
        "During data collection, some values can be lost, which are called missing values and are usually labelled as NaN in a DataFrame.\n",
        "\n",
        "The goal of this project is to remove columns that contain a high number of missing values. If the missing value percentage in a column is greater than or equal to 20%, I will drop that column from the dataset.\n",
        "\n",
        "First, I will print the number of columns in the dataset. Then, I will identify the columns that contain missing values whose percentage is greater than or equal to 20%. I will print the name of each column and the percentage of missing values in that column. After that, I will remove each of these columns from the dataset. Finally, I will print the number of remaining columns in the dataset to confirm that the correct columns have been removed.\n",
        "\n",
        "```"
      ]
    },
    {
      "cell_type": "code",
      "metadata": {
        "id": "BjnEq-XZ3DoN",
        "colab": {
          "base_uri": "https://localhost:8080/"
        },
        "outputId": "1ce6a398-4544-4579-8eaf-6e615d66fdbd"
      },
      "source": [
        "# your code i should firstly count the number of colomns \n",
        "# first i need to create a loop and count each row for any missing value in its \n",
        "\n",
        "#cols\n",
        "#after fininging the first part,assign and create a function that drops cols with 20 percent missing values or more\n",
        "\n",
        "#then print the message that after removing there are and df.shape[1]\n",
        "#\n",
        "\n",
        "\n",
        "rows = df.shape[0]\n",
        "print('Initially, there are',len(df.columns),'columns')\n",
        "dv = 100*df.isna().sum()/rows\n",
        "\n",
        "\n",
        "for i in range(len(df.columns)-1):\n",
        "  print(dv[i],'% of the values are missing in column',dv[[i+1]])\n",
        "  \n",
        "\n",
        "\n",
        "\n",
        "# nulldf=df[df.columns[df.isnull().mean() > 0.2]]\n",
        "# \"\"\" in this line i saw the columns\n",
        "# # with more than 20% and from there i know there is farm lot number and mill so i have\n",
        "# # to remove them at the end\"\"\" after knowing that the columns are 27 now we have \n",
        "# # 24 after taking out three \n",
        "\n",
        "df = df.drop([\"Farm.Name\", \"Lot.Number\", \"Mill\"], axis=1)\n",
        "\n",
        "#dv = dv[dv[0] > 0.2]\n",
        "\n",
        "print('After removing columns with high missing value percentage, there are,',len(df.columns),'columns')\n",
        "\n",
        "\n",
        "\n"
      ],
      "execution_count": null,
      "outputs": [
        {
          "output_type": "stream",
          "name": "stdout",
          "text": [
            "Initially, there are 27 columns\n",
            "0.5339435545385202 % of the values are missing in column Country.of.Origin    0.076278\n",
            "dtype: float64\n",
            "0.07627765064836003 % of the values are missing in column Farm.Name    27.154844\n",
            "dtype: float64\n",
            "27.15484363081617 % of the values are missing in column Lot.Number    79.405034\n",
            "dtype: float64\n",
            "79.40503432494279 % of the values are missing in column Mill    23.646072\n",
            "dtype: float64\n",
            "23.64607170099161 % of the values are missing in column Company    15.942029\n",
            "dtype: float64\n",
            "15.942028985507246 % of the values are missing in column Region    4.347826\n",
            "dtype: float64\n",
            "4.3478260869565215 % of the values are missing in column Producer    17.54386\n",
            "dtype: float64\n",
            "17.54385964912281 % of the values are missing in column Harvest.Year    3.58505\n",
            "dtype: float64\n",
            "3.5850495804729214 % of the values are missing in column Grading.Date    0.0\n",
            "dtype: float64\n",
            "0.0 % of the values are missing in column Processing.Method    11.594203\n",
            "dtype: float64\n",
            "11.594202898550725 % of the values are missing in column Aroma    0.0\n",
            "dtype: float64\n",
            "0.0 % of the values are missing in column Flavor    0.0\n",
            "dtype: float64\n",
            "0.0 % of the values are missing in column Aftertaste    0.0\n",
            "dtype: float64\n",
            "0.0 % of the values are missing in column Acidity    0.0\n",
            "dtype: float64\n",
            "0.0 % of the values are missing in column Body    0.0\n",
            "dtype: float64\n",
            "0.0 % of the values are missing in column Balance    0.0\n",
            "dtype: float64\n",
            "0.0 % of the values are missing in column Uniformity    0.0\n",
            "dtype: float64\n",
            "0.0 % of the values are missing in column Clean.Cup    0.0\n",
            "dtype: float64\n",
            "0.0 % of the values are missing in column Sweetness    0.0\n",
            "dtype: float64\n",
            "0.0 % of the values are missing in column Cupper.Points    0.0\n",
            "dtype: float64\n",
            "0.0 % of the values are missing in column Moisture    0.0\n",
            "dtype: float64\n",
            "0.0 % of the values are missing in column Color    16.475973\n",
            "dtype: float64\n",
            "16.475972540045767 % of the values are missing in column unit_of_measurement    0.0\n",
            "dtype: float64\n",
            "0.0 % of the values are missing in column altitude_low_meters    17.315027\n",
            "dtype: float64\n",
            "17.31502669717773 % of the values are missing in column altitude_high_meters    17.315027\n",
            "dtype: float64\n",
            "17.31502669717773 % of the values are missing in column altitude_mean_meters    17.315027\n",
            "dtype: float64\n",
            "After removing columns with high missing value percentage, there are, 24 columns\n"
          ]
        }
      ]
    },
    {
      "cell_type": "markdown",
      "metadata": {
        "id": "0iq_4ShLsihM"
      },
      "source": [
        "# Q2: Calculating Total Quality Score"
      ]
    },
    {
      "cell_type": "code",
      "metadata": {
        "id": "LdS4rmDytk1A",
        "colab": {
          "base_uri": "https://localhost:8080/"
        },
        "outputId": "c0001ccc-7d16-4f10-b6dc-563e5f254793"
      },
      "source": [
        "# # your code\n",
        "# f2 = pd.DataFrame(df, index= ['count','mean','std','min','25%','50%','75%','max'],columns = ['Total Score'])\n",
        "\n",
        "\n",
        "# we count the quality prefrences in another new df2 THEN WE ASSIGN  and count the total number of each  then use .describe and save the results in a new dataframe then print it\n",
        "# df2.loc[index, 'mean'] = \n",
        "# # df2.loc[index, 'count'] = \n",
        "\n",
        "# # df2.loc[index, 'mean'] = \n",
        "# # df.loc[index, 'std'] = \n",
        "# # df.loc[index, 'min'] = \n",
        "\n",
        "# df.loc[index, '25%'] = \n",
        "# df.loc[index, '50%'] = \n",
        "# df.loc[index, '75%'] = \n",
        "# df.loc[index, '100%'] = Total score= ['Delhi', 'Bangalore', 'Chennai', 'Patna'] total scores of \n",
        "sum_column = df[\"Aroma\"] + df[\"Flavor\"]+ df[\"Aftertaste\"]+ df[\"Acidity\"]+ df[\"Body\"]+ df[\"Balance\"]+ df[\"Uniformity\"]+ df[\"Clean.Cup\"]+ df[\"Sweetness\"]+ df[\"Cupper.Points\"]\n",
        "df[\"Total Score\"] = sum_column\n",
        "\n",
        "df[\"Total Score\"].describe()\n",
        "\n",
        "\n",
        "\n"
      ],
      "execution_count": null,
      "outputs": [
        {
          "output_type": "execute_result",
          "data": {
            "text/plain": [
              "count    1311.000000\n",
              "mean       84.464366\n",
              "std         3.525789\n",
              "min        51.593880\n",
              "25%        82.404997\n",
              "50%        84.661416\n",
              "75%        86.864485\n",
              "max        94.603712\n",
              "Name: Total Score, dtype: float64"
            ]
          },
          "metadata": {},
          "execution_count": 143
        }
      ]
    },
    {
      "cell_type": "markdown",
      "metadata": {
        "id": "WyMgH6DgoXxZ"
      },
      "source": [
        "# Q3: Unit Conversion"
      ]
    },
    {
      "cell_type": "code",
      "metadata": {
        "colab": {
          "base_uri": "https://localhost:8080/"
        },
        "id": "THZ3jlCP_0an",
        "outputId": "ca81cfda-d446-478f-8578-3d30ea64f8b4"
      },
      "source": [
        "k = df[['unit_of_measurement','altitude_mean_meters']]\n",
        "k= k.dropna()# first we drop all Nan values which had me at the end of the code\n",
        "\n",
        "meters = k.loc[k[\"unit_of_measurement\"] == 'm', \"altitude_mean_meters\"]\n",
        "#we find in column of units all m's with values in altitude col\n",
        "#then we assign them to a dummy variable to be used in calcualtions\n",
        "\n",
        "meters_count = meters.shape\n",
        "meters_count[0]\n",
        "#using this trick i can find the count of the meter values in meters\n",
        "metersMean = meters.mean()\n",
        "# i find the mean through .mean()\n",
        "\n",
        "ft = k.loc[k[\"unit_of_measurement\"] == 'ft', \"altitude_mean_meters\"]\n",
        "ftMeter = ft# same goes here again\n",
        "ftMeter_count = ftMeter.shape\n",
        "ftMeter_count[0]\n",
        "\n",
        "ftMean = ftMeter.mean()\n",
        "\n",
        "\n",
        "print(meters_count[0],'beans are recorded in metric system')\n",
        "print('Mean of altitude_mean_meters column, for the beans recorded in metric system:'\n",
        ", metersMean,' meters')\n",
        "print('')\n",
        "print(ftMeter_count[0],'beans are recorded in imperial system')\n",
        "\n",
        "print('Mean of altitude_mean_meters column, for the beans recorded in imperial system:'\n",
        "  ,ftMean , 'feet') \n",
        "print('')\n",
        "# in this part i need to get the average in meters\n",
        "#so my plan is to get the sum of values from my dummy variables\n",
        "#then i will sum them not forgetting to transform feets to meters in one of them\n",
        "#then i will calculate the mean total or MeanTOT in as below to print it\n",
        "sum_of_Both = (ft*0.3048).sum()+ meters.sum()\n",
        "total_count = int(ftMeter_count[0]) + int(meters_count[0])\n",
        "meanTOT = sum_of_Both/total_count\n",
        "\n",
        "print('After unit conversion, Mean of altitude_mean_meters column for all beans:'\n",
        ",  meanTOT ,' meters')\n",
        "\n",
        "\n",
        "\n",
        "\n"
      ],
      "execution_count": null,
      "outputs": [
        {
          "output_type": "stream",
          "name": "stdout",
          "text": [
            "973 beans are recorded in metric system\n",
            "Mean of altitude_mean_meters column, for the beans recorded in metric system: 1841.2261048304213  meters\n",
            "\n",
            "111 beans are recorded in imperial system\n",
            "Mean of altitude_mean_meters column, for the beans recorded in imperial system: 3852.861470270268 feet\n",
            "\n",
            "After unit conversion, Mean of altitude_mean_meters column for all beans: 1772.9391988481182  meters\n"
          ]
        }
      ]
    },
    {
      "cell_type": "markdown",
      "metadata": {
        "id": "QEu3oe4B4Ji8"
      },
      "source": [
        "# Q4: Processing Method Distribution"
      ]
    },
    {
      "cell_type": "code",
      "metadata": {
        "id": "Ie65Rw8bASvy",
        "colab": {
          "base_uri": "https://localhost:8080/",
          "height": 714
        },
        "outputId": "8d3a1e36-562f-49b2-f0de-94de0fd44c7e"
      },
      "source": [
        "# # your code\n",
        "from matplotlib.ticker import FuncFormatter\n",
        "l = df['Processing.Method']\n",
        "\n",
        "l= df['Processing.Method'].fillna('Unknown')\n",
        "l\n",
        "\n",
        "\n",
        "#######\n",
        "p1 = df.loc[df[\"Processing.Method\"] == 'Washed / Wet', \"Processing.Method\"]\n",
        "p1\n",
        "\n",
        "p1c = p1.shape\n",
        "p11 = p1c[0]/1311\n",
        "\n",
        "\n",
        "\n",
        "p2 = df.loc[df[\"Processing.Method\"] == 'Natural / Dry', \"Processing.Method\"]\n",
        "p2c = p2.shape\n",
        "p22 = p2c[0]/1311\n",
        "\n",
        "\n",
        "p3 = df.loc[df[\"Processing.Method\"] == 'Semi-washed / Semi-pulped', \"Processing.Method\"]\n",
        "p3c = p3.shape\n",
        "p33 = p3c[0]/1311\n",
        "\n",
        "\n",
        "p4 = df.loc[df[\"Processing.Method\"] == 'Other', \"Processing.Method\"]\n",
        "p4c = p4.shape\n",
        "p44 = p4c[0]/1311\n",
        "\n",
        "\n",
        "p5 = df.loc[df[\"Processing.Method\"] == 'Unknown', \"Processing.Method\"]\n",
        "p5c = p5.shape\n",
        "p55 = p5c[0]/1311\n",
        "\n",
        "p6 = df.loc[df[\"Processing.Method\"] == 'Pulped natural / honey', \"Processing.Method\"]\n",
        "p6c = p6.shape\n",
        "\n",
        "p66 = p6c[0]/1311\n",
        "data = [['Pulped natural / honey', p66], ['Unknown', p55], ['Other', p44],\n",
        "       ['semi-washed / Semi-pulped', p33],['Natural / Dry', p22],\n",
        "        ['Washed / Wet', p11]]\n",
        "  \n",
        "dfOfQ4 = pd.DataFrame(data,columns=['method','value'])\n",
        "dfOfQ4#this dataframe is for the table\n",
        "\n",
        "\n",
        "\n",
        "\n",
        "######\n",
        "from scipy import stats\n",
        "# we use to create each column first using .loc then do the graph\n",
        "# #then we set up a new column with percentiles with percent signs in them  then get back\n",
        "# # to drawing ,the drawing should look exactly like the figure\n",
        "# #also dont forget to make\n",
        "print(dfOfQ4.columns)\n",
        "dfOfQ4.sort_values(by=['value'],inplace=True)#to sort dfofq sereis by value column\n",
        "dfOfQ4\n",
        "\n",
        "ax = dfOfQ4.plot.bar(color='#A45D5D')\n",
        "\n",
        "print(l)\n",
        "ax.set_title('Processing Method Of Beans')\n",
        "\n",
        "ax.set_ylabel('share');\n",
        "\n",
        "ax.set_xticklabels(ax.get_xticklabels(), rotation=30, ha='right')\n",
        "\n",
        "\n",
        "# # manipulate\n",
        "vals = ax.get_yticks()\n",
        "\n",
        "ax.set_xticklabels(dfOfQ4.method.values)\n",
        "ax.set_axisbelow(False)\n",
        "ax.yaxis.grid(color='white')\n",
        "print(dfOfQ4)\n"
      ],
      "execution_count": null,
      "outputs": [
        {
          "output_type": "stream",
          "name": "stdout",
          "text": [
            "Index(['method', 'value'], dtype='object')\n",
            "0        Washed / Wet\n",
            "1        Washed / Wet\n",
            "2             Unknown\n",
            "3       Natural / Dry\n",
            "4        Washed / Wet\n",
            "            ...      \n",
            "1306     Washed / Wet\n",
            "1307    Natural / Dry\n",
            "1308            Other\n",
            "1309     Washed / Wet\n",
            "1310          Unknown\n",
            "Name: Processing.Method, Length: 1311, dtype: object\n",
            "                      method     value\n",
            "1                    Unknown  0.000000\n",
            "0     Pulped natural / honey  0.010679\n",
            "2                      Other  0.019832\n",
            "3  semi-washed / Semi-pulped  0.042715\n",
            "4              Natural / Dry  0.191457\n",
            "5               Washed / Wet  0.619375\n"
          ]
        },
        {
          "output_type": "display_data",
          "data": {
            "image/png": "[encoded data removed]",
            "text/plain": [
              "<Figure size 432x288 with 1 Axes>"
            ]
          },
          "metadata": {
            "needs_background": "light"
          }
        }
      ]
    },
    {
      "cell_type": "markdown",
      "metadata": {
        "id": "-x-YzF-AqEfu"
      },
      "source": [
        "# Q5: Correlation Plot for Quality Measures"
      ]
    },
    {
      "cell_type": "markdown",
      "metadata": {
        "id": "uYBhHlrQxRsy"
      },
      "source": [
        "Now that I have cleaned my dataset and prepared it for analysis, I want to investigate the relationship between the different quality measures in my data. To do this, I plan to create a heatmap that displays the correlations between the variables.\n",
        "\n",
        "First, I will import the necessary Python libraries, including pandas and seaborn. Then, I will load my cleaned dataset into a pandas DataFrame.\n",
        "\n",
        "Next, I will create a correlation matrix that calculates the correlation coefficients between each pair of variables. This will help me to identify which variables are strongly correlated with each other.\n",
        "\n",
        "Finally, I will use the seaborn library to create a heatmap that visualizes the correlation matrix. The heatmap will use color coding to represent the strength of the correlation between each pair of variables. This will allow me to quickly identify which variables are positively or negatively correlated with each other, and which ones have no relationship. By examining the heatmap, I will be able to gain insights into the underlying structure of my data and identify any patterns or trends that may be present.\n",
        "\n",
        "\n",
        "\n",
        "\n"
      ]
    },
    {
      "cell_type": "code",
      "metadata": {
        "id": "EPNZNpPcxUOh",
        "colab": {
          "base_uri": "https://localhost:8080/",
          "height": 328
        },
        "outputId": "7fc8059e-ec4e-4db0-a418-b5c1fa2cfcd5"
      },
      "source": [
        "# your code\n",
        "from  matplotlib.colors import LinearSegmentedColormap\n",
        "df['Processing.Method'] = df['Processing.Method'].dropna()\n",
        "dfq5 = df['Processing.Method']\n",
        "dfOfQ6 = pd.DataFrame(df,columns=['Aroma','Flavor','Aftertaste','Acidity','Body',\n",
        "   'Balance' , 'Uniformity',   'Clean.Cup'    ,'Sweetness'   ,'Cupper.Points' ,'Moisture'        ])\n",
        "\n",
        "corr = dfOfQ6.corr()\n",
        "sns.heatmap(corr, \n",
        "        xticklabels=corr.columns,\n",
        "        yticklabels=corr.columns)\n",
        "\n",
        "\n",
        "\n",
        "# cmap = cmap=sns.diverging_palette(5, 250, as_cmap=True)\n",
        "# cmap=LinearSegmentedColormap.from_list('r','r', N=256) \n",
        "def magnify():\n",
        "    return [dict(selector=\"th\",\n",
        "                 props=[(\"font-size\", \"7pt\")]),\n",
        "            dict(selector=\"td\",\n",
        "                 props=[('padding', \"0em 0em\")]),\n",
        "            dict(selector=\"th:hover\",\n",
        "                 props=[(\"font-size\", \"12pt\")]),\n",
        "            dict(selector=\"tr:hover td:hover\",\n",
        "                 props=[('max-width', '200px'),\n",
        "                        ('font-size', '12pt')])\n",
        "]\n",
        "\n",
        "\n",
        "\n",
        "\n",
        "\n",
        "corr.style.background_gradient(cmap, axis=1)\\\n",
        "    .set_properties(**{'max-width': '80px', 'font-size': 'pt'})\\\n",
        "    .set_caption(\"Hover to magify\")\\\n",
        "    .set_precision(2)\\\n",
        "    .set_table_styles(magnify())\n",
        "\n",
        "\n",
        "plt.show()\n"
      ],
      "execution_count": null,
      "outputs": [
        {
          "output_type": "display_data",
          "data": {
            "image/png": "[encoded data removed]",
            "text/plain": [
              "<Figure size 432x288 with 2 Axes>"
            ]
          },
          "metadata": {
            "needs_background": "light"
          }
        }
      ]
    }
  ]
}